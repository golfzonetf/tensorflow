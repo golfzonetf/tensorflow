{
 "cells": [
  {
   "cell_type": "code",
   "execution_count": 1,
   "metadata": {
    "collapsed": false
   },
   "outputs": [
    {
     "name": "stdout",
     "output_type": "stream",
     "text": [
      "Packages are loaded\n"
     ]
    }
   ],
   "source": [
    "import matplotlib.pyplot as plt\n",
    "import tensorflow as tf\n",
    "%matplotlib inline\n",
    "\n",
    "print (\"Packages are loaded\")"
   ]
  },
  {
   "cell_type": "code",
   "execution_count": 2,
   "metadata": {
    "collapsed": false
   },
   "outputs": [
    {
     "data": {
      "text/plain": [
       "'1.2.0'"
      ]
     },
     "execution_count": 2,
     "metadata": {},
     "output_type": "execute_result"
    }
   ],
   "source": [
    "tf.__version__"
   ]
  },
  {
   "cell_type": "code",
   "execution_count": 3,
   "metadata": {
    "collapsed": true
   },
   "outputs": [],
   "source": [
    "learning_rate = 0.1\n",
    "num_epochs = 30000\n",
    "step_display = 1000"
   ]
  },
  {
   "cell_type": "code",
   "execution_count": 4,
   "metadata": {
    "collapsed": true
   },
   "outputs": [],
   "source": [
    "x = [2.7, 4.8, 9.3, 13.4, 24.8, 31.3, 48.5, 53.0, 68.1, 74.2, 88.6, 94.5]\n",
    "y = [7.0, 28.8, 22.8, 67.1, 48.8, 100.2, 140.0, 190.2, 215.2, 285.6, 260.3, 251.1]"
   ]
  },
  {
   "cell_type": "code",
   "execution_count": 5,
   "metadata": {
    "collapsed": false
   },
   "outputs": [],
   "source": [
    "assert len(x) == len(y)"
   ]
  },
  {
   "cell_type": "code",
   "execution_count": 6,
   "metadata": {
    "collapsed": false
   },
   "outputs": [
    {
     "data": {
      "text/plain": [
       "12"
      ]
     },
     "execution_count": 6,
     "metadata": {},
     "output_type": "execute_result"
    }
   ],
   "source": [
    "len(x)"
   ]
  },
  {
   "cell_type": "code",
   "execution_count": 7,
   "metadata": {
    "collapsed": true
   },
   "outputs": [],
   "source": [
    "weight = tf.Variable(tf.random_uniform([1], -1.0, 1.0, name='weight'))\n",
    "bias = tf.Variable(tf.random_uniform([1], -1.0, 1.0, name='bias'))"
   ]
  },
  {
   "cell_type": "code",
   "execution_count": 8,
   "metadata": {
    "collapsed": true
   },
   "outputs": [],
   "source": [
    "x_true = tf.placeholder(dtype=tf.float32, name='x_true')\n",
    "y_true = tf.placeholder(dtype=tf.float32, name='y_true')"
   ]
  },
  {
   "cell_type": "code",
   "execution_count": 9,
   "metadata": {
    "collapsed": true
   },
   "outputs": [],
   "source": [
    "y_pred = tf.add(tf.multiply(weight, x_true), bias)"
   ]
  },
  {
   "cell_type": "code",
   "execution_count": 10,
   "metadata": {
    "collapsed": false
   },
   "outputs": [],
   "source": [
    "cost = tf.reduce_mean(tf.square(y_pred - y_true))"
   ]
  },
  {
   "cell_type": "code",
   "execution_count": 11,
   "metadata": {
    "collapsed": true
   },
   "outputs": [],
   "source": [
    "optimizer = tf.train.AdadeltaOptimizer(learning_rate).minimize(cost)"
   ]
  },
  {
   "cell_type": "code",
   "execution_count": 12,
   "metadata": {
    "collapsed": true
   },
   "outputs": [],
   "source": [
    "init = tf.global_variables_initializer()\n",
    "sess = tf.Session()\n",
    "sess.run(init)"
   ]
  },
  {
   "cell_type": "code",
   "execution_count": 13,
   "metadata": {
    "collapsed": false
   },
   "outputs": [
    {
     "name": "stdout",
     "output_type": "stream",
     "text": [
      "Epoch: 1000, cost: 34899.38671875, weight: [-0.38151664], bias: [-0.2288532]\n",
      "Epoch: 2000, cost: 32998.23046875, weight: [-0.28509769], bias: [-0.13241659]\n",
      "Epoch: 3000, cost: 30771.28515625, weight: [-0.16849257], bias: [-0.01577104]\n",
      "Epoch: 4000, cost: 28344.69921875, weight: [-0.03642397], bias: [ 0.11636986]\n",
      "Epoch: 5000, cost: 25811.2421875, weight: [ 0.10778258], bias: [ 0.26068985]\n",
      "Epoch: 6000, cost: 23243.98828125, weight: [ 0.26151562], bias: [ 0.41458735]\n",
      "Epoch: 7000, cost: 20701.94921875, weight: [ 0.42259562], bias: [ 0.57589233]\n",
      "Epoch: 8000, cost: 18232.884765625, weight: [ 0.58913672], bias: [ 0.74272895]\n",
      "Epoch: 9000, cost: 15875.0595703125, weight: [ 0.7594648], bias: [ 0.91343373]\n",
      "Epoch: 10000, cost: 13658.40625, weight: [ 0.932069], bias: [ 1.08650756]\n",
      "Epoch: 11000, cost: 11605.3623046875, weight: [ 1.10557652], bias: [ 1.26058209]\n",
      "Epoch: 12000, cost: 9731.99609375, weight: [ 1.27869475], bias: [ 1.43439698]\n",
      "Epoch: 13000, cost: 8048.06103515625, weight: [ 1.45025122], bias: [ 1.60677898]\n",
      "Epoch: 14000, cost: 6558.14892578125, weight: [ 1.61913145], bias: [ 1.77663648]\n",
      "Epoch: 15000, cost: 5262.10595703125, weight: [ 1.78428245], bias: [ 1.94293654]\n",
      "Epoch: 16000, cost: 4155.615234375, weight: [ 1.94469917], bias: [ 2.10470009]\n",
      "Epoch: 17000, cost: 3230.76171875, weight: [ 2.09940839], bias: [ 2.26098323]\n",
      "Epoch: 18000, cost: 2476.5673828125, weight: [ 2.2474494], bias: [ 2.41087031]\n",
      "Epoch: 19000, cost: 1879.462646484375, weight: [ 2.38785625], bias: [ 2.55345249]\n",
      "Epoch: 20000, cost: 1423.7669677734375, weight: [ 2.51962566], bias: [ 2.68780446]\n",
      "Epoch: 21000, cost: 1092.120849609375, weight: [ 2.6416707], bias: [ 2.81296396]\n",
      "Epoch: 22000, cost: 865.874267578125, weight: [ 2.75274754], bias: [ 2.92788649]\n",
      "Epoch: 23000, cost: 725.4249267578125, weight: [ 2.85133243], bias: [ 3.0313983]\n",
      "Epoch: 24000, cost: 650.543212890625, weight: [ 2.93534374], bias: [ 3.12214637]\n",
      "Epoch: 25000, cost: 620.6214599609375, weight: [ 3.00145459], bias: [ 3.19867754]\n",
      "Epoch: 26000, cost: 614.9120483398438, weight: [ 3.04197693], bias: [ 3.2612896]\n",
      "Epoch: 27000, cost: 614.705810546875, weight: [ 3.04383969], bias: [ 3.33349156]\n",
      "Epoch: 28000, cost: 614.4605712890625, weight: [ 3.04241991], bias: [ 3.43263197]\n",
      "Epoch: 29000, cost: 614.176025390625, weight: [ 3.04068089], bias: [ 3.55136991]\n",
      "Epoch: 30000, cost: 613.8670654296875, weight: [ 3.03870487], bias: [ 3.68522477]\n",
      "Optmization is done\n"
     ]
    }
   ],
   "source": [
    "for epoch in range(num_epochs):\n",
    "    _, c = sess.run([optimizer, cost], feed_dict={x_true:x, y_true:y})\n",
    "    if (epoch+1) % step_display == 0:\n",
    "        print (\"Epoch: {0}, cost: {1}, weight: {2}, bias: {3}\".format(epoch+1, c, sess.run(weight), sess.run(bias)))\n",
    "print(\"Optmization is done\")"
   ]
  },
  {
   "cell_type": "code",
   "execution_count": 14,
   "metadata": {
    "collapsed": false
   },
   "outputs": [
    {
     "name": "stdout",
     "output_type": "stream",
     "text": [
      "Final cost: 613.8670654296875\n",
      "Final weight: [ 3.03870487]\n",
      "Final bias: [ 3.68522477]\n"
     ]
    }
   ],
   "source": [
    "training_cost = sess.run(cost, feed_dict={x_true:x, y_true:y})\n",
    "print (\"Final cost: {}\".format(c))\n",
    "print (\"Final weight: {}\".format(sess.run(weight)))\n",
    "print (\"Final bias: {}\".format(sess.run(bias)))"
   ]
  },
  {
   "cell_type": "code",
   "execution_count": 15,
   "metadata": {
    "collapsed": false
   },
   "outputs": [
    {
     "data": {
      "image/png": "[encoded data removed]",
      "text/plain": [
       "<matplotlib.figure.Figure at 0x1ea91395940>"
      ]
     },
     "metadata": {},
     "output_type": "display_data"
    }
   ],
   "source": [
    "plt.plot(x, y, 'ro', label='Original data')\n",
    "plt.plot(x, sess.run(weight) * x + sess.run(bias), label='Optimized line')\n",
    "plt.legend()\n",
    "plt.show()"
   ]
  },
  {
   "cell_type": "code",
   "execution_count": 16,
   "metadata": {
    "collapsed": true
   },
   "outputs": [],
   "source": [
    "sess.close()"
   ]
  },
  {
   "cell_type": "code",
   "execution_count": null,
   "metadata": {
    "collapsed": true
   },
   "outputs": [],
   "source": []
  }
 ],
 "metadata": {
  "kernelspec": {
   "display_name": "Python 3",
   "language": "python",
   "name": "python3"
  },
  "language_info": {
   "codemirror_mode": {
    "name": "ipython",
    "version": 3
   },
   "file_extension": ".py",
   "mimetype": "text/x-python",
   "name": "python",
   "nbconvert_exporter": "python",
   "pygments_lexer": "ipython3",
   "version": "3.5.2"
  }
 },
 "nbformat": 4,
 "nbformat_minor": 2
}
