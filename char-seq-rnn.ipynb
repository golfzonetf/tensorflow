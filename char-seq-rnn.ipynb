{
 "cells": [
  {
   "cell_type": "code",
   "execution_count": 1,
   "metadata": {
    "collapsed": true
   },
   "outputs": [],
   "source": [
    "import tensorflow as tf\n",
    "import numpy as np\n",
    "tf.set_random_seed(777)  # reproducibility"
   ]
  },
  {
   "cell_type": "code",
   "execution_count": 2,
   "metadata": {
    "collapsed": true
   },
   "outputs": [],
   "source": [
    "sample = \" if you want you\"\n",
    "idx2char = list(set(sample))  # index -> char\n",
    "char2idx = {c: i for i, c in enumerate(idx2char)}  # char -> idex"
   ]
  },
  {
   "cell_type": "code",
   "execution_count": 3,
   "metadata": {
    "collapsed": true
   },
   "outputs": [],
   "source": [
    "# hyper parameters\n",
    "dic_size = len(char2idx)  # RNN input size (one hot size)\n",
    "hidden_size = len(char2idx)  # RNN output size\n",
    "num_classes = len(char2idx)  # final output size (RNN or softmax, etc.)\n",
    "batch_size = 1  # one sample data, one batch\n",
    "sequence_length = len(sample) - 1  # number of lstm rollings (unit #)\n",
    "learning_rate = 0.1"
   ]
  },
  {
   "cell_type": "code",
   "execution_count": 4,
   "metadata": {
    "collapsed": true
   },
   "outputs": [],
   "source": [
    "sample_idx = [char2idx[c] for c in sample]  # char to index\n",
    "x_data = [sample_idx[:-1]]  # X data sample (0 ~ n-1) hello: hell\n",
    "y_data = [sample_idx[1:]]   # Y label sample (1 ~ n) hello: ello"
   ]
  },
  {
   "cell_type": "code",
   "execution_count": 5,
   "metadata": {
    "collapsed": true
   },
   "outputs": [],
   "source": [
    "X = tf.placeholder(tf.int32, [None, sequence_length])  # X data\n",
    "Y = tf.placeholder(tf.int32, [None, sequence_length])  # Y label"
   ]
  },
  {
   "cell_type": "code",
   "execution_count": 6,
   "metadata": {
    "collapsed": true
   },
   "outputs": [],
   "source": [
    "x_one_hot = tf.one_hot(X, num_classes)  # one hot: 1 -> 0 1 0 0 0 0 0 0 0 0\n",
    "cell = tf.contrib.rnn.BasicLSTMCell(\n",
    "    num_units=hidden_size, state_is_tuple=True)\n",
    "initial_state = cell.zero_state(batch_size, tf.float32)\n",
    "outputs, _states = tf.nn.dynamic_rnn(\n",
    "    cell, x_one_hot, initial_state=initial_state, dtype=tf.float32)"
   ]
  },
  {
   "cell_type": "code",
   "execution_count": 7,
   "metadata": {
    "collapsed": true
   },
   "outputs": [],
   "source": [
    "# FC layer\n",
    "X_for_fc = tf.reshape(outputs, [-1, hidden_size])\n",
    "outputs = tf.contrib.layers.fully_connected(X_for_fc, num_classes, activation_fn=None)"
   ]
  },
  {
   "cell_type": "code",
   "execution_count": 8,
   "metadata": {
    "collapsed": true
   },
   "outputs": [],
   "source": [
    "# reshape out for sequence_loss\n",
    "outputs = tf.reshape(outputs, [batch_size, sequence_length, num_classes])"
   ]
  },
  {
   "cell_type": "code",
   "execution_count": 9,
   "metadata": {
    "collapsed": true
   },
   "outputs": [],
   "source": [
    "weights = tf.ones([batch_size, sequence_length])\n",
    "sequence_loss = tf.contrib.seq2seq.sequence_loss(\n",
    "    logits=outputs, targets=Y, weights=weights)\n",
    "loss = tf.reduce_mean(sequence_loss)\n",
    "train = tf.train.AdamOptimizer(learning_rate=learning_rate).minimize(loss)"
   ]
  },
  {
   "cell_type": "code",
   "execution_count": 10,
   "metadata": {
    "collapsed": true
   },
   "outputs": [],
   "source": [
    "prediction = tf.argmax(outputs, axis=2)"
   ]
  },
  {
   "cell_type": "code",
   "execution_count": 11,
   "metadata": {
    "collapsed": false
   },
   "outputs": [
    {
     "name": "stdout",
     "output_type": "stream",
     "text": [
      "0 loss: 2.3052 Prediction: yy y u         \n",
      "1 loss: 2.16158 Prediction: yo you       ou\n",
      "2 loss: 1.97181 Prediction: yo you      you\n",
      "3 loss: 1.73024 Prediction: yo you   n  you\n",
      "4 loss: 1.4548 Prediction: yo youuw n  you\n",
      "5 loss: 1.16062 Prediction: yf youuwan  you\n",
      "6 loss: 0.90632 Prediction: yf you wan  you\n",
      "7 loss: 0.697399 Prediction: yf you want you\n",
      "8 loss: 0.512603 Prediction: yf you want you\n",
      "9 loss: 0.37722 Prediction: yf you want you\n",
      "10 loss: 0.276987 Prediction: yf you want you\n",
      "11 loss: 0.203333 Prediction: if you want you\n",
      "12 loss: 0.147028 Prediction: if you want you\n",
      "13 loss: 0.105577 Prediction: if you want you\n",
      "14 loss: 0.0760014 Prediction: if you want you\n",
      "15 loss: 0.0563089 Prediction: if you want you\n",
      "16 loss: 0.0417783 Prediction: if you want you\n",
      "17 loss: 0.0305138 Prediction: if you want you\n",
      "18 loss: 0.0221873 Prediction: if you want you\n",
      "19 loss: 0.0163905 Prediction: if you want you\n",
      "20 loss: 0.0124395 Prediction: if you want you\n",
      "21 loss: 0.00970893 Prediction: if you want you\n",
      "22 loss: 0.00777495 Prediction: if you want you\n",
      "23 loss: 0.00635994 Prediction: if you want you\n",
      "24 loss: 0.00527764 Prediction: if you want you\n",
      "25 loss: 0.00442019 Prediction: if you want you\n",
      "26 loss: 0.00373669 Prediction: if you want you\n",
      "27 loss: 0.00319958 Prediction: if you want you\n",
      "28 loss: 0.00278207 Prediction: if you want you\n",
      "29 loss: 0.00245557 Prediction: if you want you\n",
      "30 loss: 0.00219486 Prediction: if you want you\n",
      "31 loss: 0.00198117 Prediction: if you want you\n",
      "32 loss: 0.00180218 Prediction: if you want you\n",
      "33 loss: 0.00165002 Prediction: if you want you\n",
      "34 loss: 0.00151955 Prediction: if you want you\n",
      "35 loss: 0.00140698 Prediction: if you want you\n",
      "36 loss: 0.0013094 Prediction: if you want you\n",
      "37 loss: 0.00122423 Prediction: if you want you\n",
      "38 loss: 0.00114952 Prediction: if you want you\n",
      "39 loss: 0.00108359 Prediction: if you want you\n",
      "40 loss: 0.00102525 Prediction: if you want you\n",
      "41 loss: 0.000973548 Prediction: if you want you\n",
      "42 loss: 0.000927788 Prediction: if you want you\n",
      "43 loss: 0.00088723 Prediction: if you want you\n",
      "44 loss: 0.00085132 Prediction: if you want you\n",
      "45 loss: 0.000819455 Prediction: if you want you\n",
      "46 loss: 0.000791176 Prediction: if you want you\n",
      "47 loss: 0.000765944 Prediction: if you want you\n",
      "48 loss: 0.000743401 Prediction: if you want you\n",
      "49 loss: 0.000723128 Prediction: if you want you\n"
     ]
    }
   ],
   "source": [
    "with tf.Session() as sess:\n",
    "    sess.run(tf.global_variables_initializer())\n",
    "    for i in range(50):\n",
    "        l, _ = sess.run([loss, train], feed_dict={X: x_data, Y: y_data})\n",
    "        result = sess.run(prediction, feed_dict={X: x_data})\n",
    "\n",
    "        # print char using dic\n",
    "        result_str = [idx2char[c] for c in np.squeeze(result)]\n",
    "\n",
    "        print(i, \"loss:\", l, \"Prediction:\", ''.join(result_str))"
   ]
  },
  {
   "cell_type": "code",
   "execution_count": null,
   "metadata": {
    "collapsed": true
   },
   "outputs": [],
   "source": []
  }
 ],
 "metadata": {
  "kernelspec": {
   "display_name": "Python 3",
   "language": "python",
   "name": "python3"
  },
  "language_info": {
   "codemirror_mode": {
    "name": "ipython",
    "version": 3
   },
   "file_extension": ".py",
   "mimetype": "text/x-python",
   "name": "python",
   "nbconvert_exporter": "python",
   "pygments_lexer": "ipython3",
   "version": "3.5.2"
  }
 },
 "nbformat": 4,
 "nbformat_minor": 2
}
